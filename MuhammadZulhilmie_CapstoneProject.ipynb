{
 "cells": [
  {
   "cell_type": "markdown",
   "id": "1f52968c",
   "metadata": {},
   "source": [
    "# Problem Statement\n",
    "Online shopping has enabled consumers to make more online transactions due to its convenience and ease of use. However, there are scams which involves fraudulent transactions whereby the seller does not receive the payment from the buyer. \n",
    "\n",
    "With the help of this dataset, which includes both legitimate and fraudulent online transactions, we hope to create a machine learning classification model that can spot fraudulent activity.\n",
    "\n",
    "### Dataset Dictionary\n",
    "| Variable | Description |\n",
    "| :--- | :---   |\n",
    "| step | represents a unit of time where 1 step equals 1 hour |\n",
    "|type\t|type of online transaction |\n",
    "|amount | the amount of the transaction|\n",
    "|nameOrig | customer starting the transaction|\n",
    "|oldbalanceOrg | balance before the transaction|\n",
    "|newbalanceOrig | balance after the transaction|\n",
    "|nameDest | recipient of the transaction|\n",
    "|oldbalanceDest | initial balance of recipient before the transaction|\n",
    "|newbalanceDest | the new balance of recipient after the transaction|\n",
    "|isFraud |\tfraud transaction|"
   ]
  },
  {
   "cell_type": "markdown",
   "id": "7dfe78da",
   "metadata": {},
   "source": [
    "# Data Handling Approaches\n",
    "a. Data Cleaning and Formatting\n",
    "- Check any null value or missing value\n",
    "- Inspect any anomalies or outliers\n",
    "- Impute or remove missing value\n",
    "\n",
    "b. EDA (Exploratory Data Analysis)\n",
    "- Analyse the data distribution pattern\n",
    "- Encode the data\n",
    "- Analyse the correlation using heatmap and Pairplot\n",
    "\n",
    "c. Apply Machine Learning Algorithm\n",
    "- Split the train and test dataset\n",
    "- Apply different ML Alogorithm using Log Regression, KNN and Decision Tree\n",
    "\n",
    "d. Evaluate the model performance\n",
    "- Select the best model for inference"
   ]
  },
  {
   "cell_type": "markdown",
   "id": "43eb477e",
   "metadata": {},
   "source": [
    "# Import Packages"
   ]
  },
  {
   "cell_type": "code",
   "execution_count": 1,
   "id": "fe219cd9",
   "metadata": {},
   "outputs": [],
   "source": [
    "from IPython.core.interactiveshell import InteractiveShell\n",
    "InteractiveShell.ast_node_interactivity = \"all\""
   ]
  },
  {
   "cell_type": "code",
   "execution_count": 2,
   "id": "89a452ef",
   "metadata": {},
   "outputs": [],
   "source": [
    "# numpy and pandas for data manipulation\n",
    "import numpy as np\n",
    "import pandas as pd\n",
    "\n",
    "# matplotlib and seaborn for plotting\n",
    "import matplotlib.pyplot as plt\n",
    "import seaborn as sns"
   ]
  },
  {
   "cell_type": "markdown",
   "id": "f9b46480",
   "metadata": {},
   "source": [
    "# Data Cleaning and Formatting"
   ]
  },
  {
   "cell_type": "markdown",
   "id": "eb73697b",
   "metadata": {},
   "source": [
    "## Data Acquisition and Initial Exploration"
   ]
  },
  {
   "cell_type": "code",
   "execution_count": 3,
   "id": "0a825043",
   "metadata": {
    "scrolled": true
   },
   "outputs": [],
   "source": [
    "# This dataset was acquired from kaggle (Vehicle Insurance Claim Fraud Detection) at https://www.kaggle.com/datasets/shivamb/vehicle-claim-fraud-detection\n",
    "df = pd.read_csv('fraud.csv')"
   ]
  },
  {
   "cell_type": "code",
   "execution_count": 4,
   "id": "cec07377",
   "metadata": {},
   "outputs": [
    {
     "data": {
      "text/html": [
       "<div>\n",
       "<style scoped>\n",
       "    .dataframe tbody tr th:only-of-type {\n",
       "        vertical-align: middle;\n",
       "    }\n",
       "\n",
       "    .dataframe tbody tr th {\n",
       "        vertical-align: top;\n",
       "    }\n",
       "\n",
       "    .dataframe thead th {\n",
       "        text-align: right;\n",
       "    }\n",
       "</style>\n",
       "<table border=\"1\" class=\"dataframe\">\n",
       "  <thead>\n",
       "    <tr style=\"text-align: right;\">\n",
       "      <th></th>\n",
       "      <th>step</th>\n",
       "      <th>type</th>\n",
       "      <th>amount</th>\n",
       "      <th>nameOrig</th>\n",
       "      <th>oldbalanceOrg</th>\n",
       "      <th>newbalanceOrig</th>\n",
       "      <th>nameDest</th>\n",
       "      <th>oldbalanceDest</th>\n",
       "      <th>newbalanceDest</th>\n",
       "      <th>isFraud</th>\n",
       "      <th>isFlaggedFraud</th>\n",
       "    </tr>\n",
       "  </thead>\n",
       "  <tbody>\n",
       "    <tr>\n",
       "      <th>0</th>\n",
       "      <td>1</td>\n",
       "      <td>PAYMENT</td>\n",
       "      <td>9839.64</td>\n",
       "      <td>C1231006815</td>\n",
       "      <td>170136.0</td>\n",
       "      <td>160296.36</td>\n",
       "      <td>M1979787155</td>\n",
       "      <td>0.0</td>\n",
       "      <td>0.0</td>\n",
       "      <td>0</td>\n",
       "      <td>0</td>\n",
       "    </tr>\n",
       "    <tr>\n",
       "      <th>1</th>\n",
       "      <td>1</td>\n",
       "      <td>PAYMENT</td>\n",
       "      <td>1864.28</td>\n",
       "      <td>C1666544295</td>\n",
       "      <td>21249.0</td>\n",
       "      <td>19384.72</td>\n",
       "      <td>M2044282225</td>\n",
       "      <td>0.0</td>\n",
       "      <td>0.0</td>\n",
       "      <td>0</td>\n",
       "      <td>0</td>\n",
       "    </tr>\n",
       "    <tr>\n",
       "      <th>2</th>\n",
       "      <td>1</td>\n",
       "      <td>TRANSFER</td>\n",
       "      <td>181.00</td>\n",
       "      <td>C1305486145</td>\n",
       "      <td>181.0</td>\n",
       "      <td>0.00</td>\n",
       "      <td>C553264065</td>\n",
       "      <td>0.0</td>\n",
       "      <td>0.0</td>\n",
       "      <td>1</td>\n",
       "      <td>0</td>\n",
       "    </tr>\n",
       "    <tr>\n",
       "      <th>3</th>\n",
       "      <td>1</td>\n",
       "      <td>CASH_OUT</td>\n",
       "      <td>181.00</td>\n",
       "      <td>C840083671</td>\n",
       "      <td>181.0</td>\n",
       "      <td>0.00</td>\n",
       "      <td>C38997010</td>\n",
       "      <td>21182.0</td>\n",
       "      <td>0.0</td>\n",
       "      <td>1</td>\n",
       "      <td>0</td>\n",
       "    </tr>\n",
       "    <tr>\n",
       "      <th>4</th>\n",
       "      <td>1</td>\n",
       "      <td>PAYMENT</td>\n",
       "      <td>11668.14</td>\n",
       "      <td>C2048537720</td>\n",
       "      <td>41554.0</td>\n",
       "      <td>29885.86</td>\n",
       "      <td>M1230701703</td>\n",
       "      <td>0.0</td>\n",
       "      <td>0.0</td>\n",
       "      <td>0</td>\n",
       "      <td>0</td>\n",
       "    </tr>\n",
       "  </tbody>\n",
       "</table>\n",
       "</div>"
      ],
      "text/plain": [
       "   step      type    amount     nameOrig  oldbalanceOrg  newbalanceOrig  \\\n",
       "0     1   PAYMENT   9839.64  C1231006815       170136.0       160296.36   \n",
       "1     1   PAYMENT   1864.28  C1666544295        21249.0        19384.72   \n",
       "2     1  TRANSFER    181.00  C1305486145          181.0            0.00   \n",
       "3     1  CASH_OUT    181.00   C840083671          181.0            0.00   \n",
       "4     1   PAYMENT  11668.14  C2048537720        41554.0        29885.86   \n",
       "\n",
       "      nameDest  oldbalanceDest  newbalanceDest  isFraud  isFlaggedFraud  \n",
       "0  M1979787155             0.0             0.0        0               0  \n",
       "1  M2044282225             0.0             0.0        0               0  \n",
       "2   C553264065             0.0             0.0        1               0  \n",
       "3    C38997010         21182.0             0.0        1               0  \n",
       "4  M1230701703             0.0             0.0        0               0  "
      ]
     },
     "execution_count": 4,
     "metadata": {},
     "output_type": "execute_result"
    },
    {
     "name": "stdout",
     "output_type": "stream",
     "text": [
      "<class 'pandas.core.frame.DataFrame'>\n",
      "RangeIndex: 6362620 entries, 0 to 6362619\n",
      "Data columns (total 11 columns):\n",
      " #   Column          Dtype  \n",
      "---  ------          -----  \n",
      " 0   step            int64  \n",
      " 1   type            object \n",
      " 2   amount          float64\n",
      " 3   nameOrig        object \n",
      " 4   oldbalanceOrg   float64\n",
      " 5   newbalanceOrig  float64\n",
      " 6   nameDest        object \n",
      " 7   oldbalanceDest  float64\n",
      " 8   newbalanceDest  float64\n",
      " 9   isFraud         int64  \n",
      " 10  isFlaggedFraud  int64  \n",
      "dtypes: float64(5), int64(3), object(3)\n",
      "memory usage: 534.0+ MB\n"
     ]
    },
    {
     "data": {
      "text/html": [
       "<div>\n",
       "<style scoped>\n",
       "    .dataframe tbody tr th:only-of-type {\n",
       "        vertical-align: middle;\n",
       "    }\n",
       "\n",
       "    .dataframe tbody tr th {\n",
       "        vertical-align: top;\n",
       "    }\n",
       "\n",
       "    .dataframe thead th {\n",
       "        text-align: right;\n",
       "    }\n",
       "</style>\n",
       "<table border=\"1\" class=\"dataframe\">\n",
       "  <thead>\n",
       "    <tr style=\"text-align: right;\">\n",
       "      <th></th>\n",
       "      <th>step</th>\n",
       "      <th>amount</th>\n",
       "      <th>oldbalanceOrg</th>\n",
       "      <th>newbalanceOrig</th>\n",
       "      <th>oldbalanceDest</th>\n",
       "      <th>newbalanceDest</th>\n",
       "      <th>isFraud</th>\n",
       "      <th>isFlaggedFraud</th>\n",
       "    </tr>\n",
       "  </thead>\n",
       "  <tbody>\n",
       "    <tr>\n",
       "      <th>count</th>\n",
       "      <td>6.362620e+06</td>\n",
       "      <td>6.362620e+06</td>\n",
       "      <td>6.362620e+06</td>\n",
       "      <td>6.362620e+06</td>\n",
       "      <td>6.362620e+06</td>\n",
       "      <td>6.362620e+06</td>\n",
       "      <td>6.362620e+06</td>\n",
       "      <td>6.362620e+06</td>\n",
       "    </tr>\n",
       "    <tr>\n",
       "      <th>mean</th>\n",
       "      <td>2.433972e+02</td>\n",
       "      <td>1.798619e+05</td>\n",
       "      <td>8.338831e+05</td>\n",
       "      <td>8.551137e+05</td>\n",
       "      <td>1.100702e+06</td>\n",
       "      <td>1.224996e+06</td>\n",
       "      <td>1.290820e-03</td>\n",
       "      <td>2.514687e-06</td>\n",
       "    </tr>\n",
       "    <tr>\n",
       "      <th>std</th>\n",
       "      <td>1.423320e+02</td>\n",
       "      <td>6.038582e+05</td>\n",
       "      <td>2.888243e+06</td>\n",
       "      <td>2.924049e+06</td>\n",
       "      <td>3.399180e+06</td>\n",
       "      <td>3.674129e+06</td>\n",
       "      <td>3.590480e-02</td>\n",
       "      <td>1.585775e-03</td>\n",
       "    </tr>\n",
       "    <tr>\n",
       "      <th>min</th>\n",
       "      <td>1.000000e+00</td>\n",
       "      <td>0.000000e+00</td>\n",
       "      <td>0.000000e+00</td>\n",
       "      <td>0.000000e+00</td>\n",
       "      <td>0.000000e+00</td>\n",
       "      <td>0.000000e+00</td>\n",
       "      <td>0.000000e+00</td>\n",
       "      <td>0.000000e+00</td>\n",
       "    </tr>\n",
       "    <tr>\n",
       "      <th>25%</th>\n",
       "      <td>1.560000e+02</td>\n",
       "      <td>1.338957e+04</td>\n",
       "      <td>0.000000e+00</td>\n",
       "      <td>0.000000e+00</td>\n",
       "      <td>0.000000e+00</td>\n",
       "      <td>0.000000e+00</td>\n",
       "      <td>0.000000e+00</td>\n",
       "      <td>0.000000e+00</td>\n",
       "    </tr>\n",
       "    <tr>\n",
       "      <th>50%</th>\n",
       "      <td>2.390000e+02</td>\n",
       "      <td>7.487194e+04</td>\n",
       "      <td>1.420800e+04</td>\n",
       "      <td>0.000000e+00</td>\n",
       "      <td>1.327057e+05</td>\n",
       "      <td>2.146614e+05</td>\n",
       "      <td>0.000000e+00</td>\n",
       "      <td>0.000000e+00</td>\n",
       "    </tr>\n",
       "    <tr>\n",
       "      <th>75%</th>\n",
       "      <td>3.350000e+02</td>\n",
       "      <td>2.087215e+05</td>\n",
       "      <td>1.073152e+05</td>\n",
       "      <td>1.442584e+05</td>\n",
       "      <td>9.430367e+05</td>\n",
       "      <td>1.111909e+06</td>\n",
       "      <td>0.000000e+00</td>\n",
       "      <td>0.000000e+00</td>\n",
       "    </tr>\n",
       "    <tr>\n",
       "      <th>max</th>\n",
       "      <td>7.430000e+02</td>\n",
       "      <td>9.244552e+07</td>\n",
       "      <td>5.958504e+07</td>\n",
       "      <td>4.958504e+07</td>\n",
       "      <td>3.560159e+08</td>\n",
       "      <td>3.561793e+08</td>\n",
       "      <td>1.000000e+00</td>\n",
       "      <td>1.000000e+00</td>\n",
       "    </tr>\n",
       "  </tbody>\n",
       "</table>\n",
       "</div>"
      ],
      "text/plain": [
       "               step        amount  oldbalanceOrg  newbalanceOrig  \\\n",
       "count  6.362620e+06  6.362620e+06   6.362620e+06    6.362620e+06   \n",
       "mean   2.433972e+02  1.798619e+05   8.338831e+05    8.551137e+05   \n",
       "std    1.423320e+02  6.038582e+05   2.888243e+06    2.924049e+06   \n",
       "min    1.000000e+00  0.000000e+00   0.000000e+00    0.000000e+00   \n",
       "25%    1.560000e+02  1.338957e+04   0.000000e+00    0.000000e+00   \n",
       "50%    2.390000e+02  7.487194e+04   1.420800e+04    0.000000e+00   \n",
       "75%    3.350000e+02  2.087215e+05   1.073152e+05    1.442584e+05   \n",
       "max    7.430000e+02  9.244552e+07   5.958504e+07    4.958504e+07   \n",
       "\n",
       "       oldbalanceDest  newbalanceDest       isFraud  isFlaggedFraud  \n",
       "count    6.362620e+06    6.362620e+06  6.362620e+06    6.362620e+06  \n",
       "mean     1.100702e+06    1.224996e+06  1.290820e-03    2.514687e-06  \n",
       "std      3.399180e+06    3.674129e+06  3.590480e-02    1.585775e-03  \n",
       "min      0.000000e+00    0.000000e+00  0.000000e+00    0.000000e+00  \n",
       "25%      0.000000e+00    0.000000e+00  0.000000e+00    0.000000e+00  \n",
       "50%      1.327057e+05    2.146614e+05  0.000000e+00    0.000000e+00  \n",
       "75%      9.430367e+05    1.111909e+06  0.000000e+00    0.000000e+00  \n",
       "max      3.560159e+08    3.561793e+08  1.000000e+00    1.000000e+00  "
      ]
     },
     "execution_count": 4,
     "metadata": {},
     "output_type": "execute_result"
    }
   ],
   "source": [
    "# Dataset in a glance\n",
    "df.head()\n",
    "df.info()\n",
    "df.describe()"
   ]
  },
  {
   "cell_type": "markdown",
   "id": "f8d3f96d",
   "metadata": {},
   "source": [
    "The 'isFraud' column will be the target variable with '1' representing cases of fraud and '0' representing non-fraud cases. The columns which may be useful in the training model are:\n",
    "\n",
    "- type\n",
    "- amount\n",
    "- oldbalanceOrg\n",
    "- newbalanceOrig\n",
    "- oldbalanceDest\n",
    "- newbalanceDest"
   ]
  },
  {
   "cell_type": "markdown",
   "id": "a0d800a0",
   "metadata": {},
   "source": [
    "## Checking for Missing Data or Duplicates"
   ]
  },
  {
   "cell_type": "code",
   "execution_count": 5,
   "id": "3c602730",
   "metadata": {
    "scrolled": true
   },
   "outputs": [
    {
     "data": {
      "text/plain": [
       "step              0\n",
       "type              0\n",
       "amount            0\n",
       "nameOrig          0\n",
       "oldbalanceOrg     0\n",
       "newbalanceOrig    0\n",
       "nameDest          0\n",
       "oldbalanceDest    0\n",
       "newbalanceDest    0\n",
       "isFraud           0\n",
       "isFlaggedFraud    0\n",
       "dtype: int64"
      ]
     },
     "execution_count": 5,
     "metadata": {},
     "output_type": "execute_result"
    }
   ],
   "source": [
    "# Checking missing data\n",
    "df.isnull().sum()"
   ]
  },
  {
   "cell_type": "code",
   "execution_count": 6,
   "id": "28052c8c",
   "metadata": {},
   "outputs": [
    {
     "data": {
      "text/plain": [
       "0"
      ]
     },
     "execution_count": 6,
     "metadata": {},
     "output_type": "execute_result"
    }
   ],
   "source": [
    "# Checking for duplicates\n",
    "df.duplicated().sum()"
   ]
  },
  {
   "cell_type": "markdown",
   "id": "f2eb9ca1",
   "metadata": {},
   "source": [
    "No missing data or duplicates."
   ]
  },
  {
   "cell_type": "markdown",
   "id": "972233d0",
   "metadata": {},
   "source": [
    "## Further Data Cleaning"
   ]
  },
  {
   "cell_type": "code",
   "execution_count": 7,
   "id": "663ea517",
   "metadata": {},
   "outputs": [],
   "source": [
    "# Creating a copy of master dataset\n",
    "df_cleaned = df.copy()"
   ]
  },
  {
   "cell_type": "code",
   "execution_count": 8,
   "id": "5bb0cd63",
   "metadata": {},
   "outputs": [
    {
     "data": {
      "text/html": [
       "<div>\n",
       "<style scoped>\n",
       "    .dataframe tbody tr th:only-of-type {\n",
       "        vertical-align: middle;\n",
       "    }\n",
       "\n",
       "    .dataframe tbody tr th {\n",
       "        vertical-align: top;\n",
       "    }\n",
       "\n",
       "    .dataframe thead th {\n",
       "        text-align: right;\n",
       "    }\n",
       "</style>\n",
       "<table border=\"1\" class=\"dataframe\">\n",
       "  <thead>\n",
       "    <tr style=\"text-align: right;\">\n",
       "      <th></th>\n",
       "      <th>step</th>\n",
       "      <th>type</th>\n",
       "      <th>amount</th>\n",
       "      <th>oldbalanceOrg</th>\n",
       "      <th>newbalanceOrig</th>\n",
       "      <th>oldbalanceDest</th>\n",
       "      <th>newbalanceDest</th>\n",
       "      <th>isFraud</th>\n",
       "      <th>isFlaggedFraud</th>\n",
       "    </tr>\n",
       "  </thead>\n",
       "  <tbody>\n",
       "    <tr>\n",
       "      <th>0</th>\n",
       "      <td>1</td>\n",
       "      <td>PAYMENT</td>\n",
       "      <td>9839.64</td>\n",
       "      <td>170136.0</td>\n",
       "      <td>160296.36</td>\n",
       "      <td>0.0</td>\n",
       "      <td>0.0</td>\n",
       "      <td>0</td>\n",
       "      <td>0</td>\n",
       "    </tr>\n",
       "    <tr>\n",
       "      <th>1</th>\n",
       "      <td>1</td>\n",
       "      <td>PAYMENT</td>\n",
       "      <td>1864.28</td>\n",
       "      <td>21249.0</td>\n",
       "      <td>19384.72</td>\n",
       "      <td>0.0</td>\n",
       "      <td>0.0</td>\n",
       "      <td>0</td>\n",
       "      <td>0</td>\n",
       "    </tr>\n",
       "    <tr>\n",
       "      <th>2</th>\n",
       "      <td>1</td>\n",
       "      <td>TRANSFER</td>\n",
       "      <td>181.00</td>\n",
       "      <td>181.0</td>\n",
       "      <td>0.00</td>\n",
       "      <td>0.0</td>\n",
       "      <td>0.0</td>\n",
       "      <td>1</td>\n",
       "      <td>0</td>\n",
       "    </tr>\n",
       "    <tr>\n",
       "      <th>3</th>\n",
       "      <td>1</td>\n",
       "      <td>CASH_OUT</td>\n",
       "      <td>181.00</td>\n",
       "      <td>181.0</td>\n",
       "      <td>0.00</td>\n",
       "      <td>21182.0</td>\n",
       "      <td>0.0</td>\n",
       "      <td>1</td>\n",
       "      <td>0</td>\n",
       "    </tr>\n",
       "    <tr>\n",
       "      <th>4</th>\n",
       "      <td>1</td>\n",
       "      <td>PAYMENT</td>\n",
       "      <td>11668.14</td>\n",
       "      <td>41554.0</td>\n",
       "      <td>29885.86</td>\n",
       "      <td>0.0</td>\n",
       "      <td>0.0</td>\n",
       "      <td>0</td>\n",
       "      <td>0</td>\n",
       "    </tr>\n",
       "  </tbody>\n",
       "</table>\n",
       "</div>"
      ],
      "text/plain": [
       "   step      type    amount  oldbalanceOrg  newbalanceOrig  oldbalanceDest  \\\n",
       "0     1   PAYMENT   9839.64       170136.0       160296.36             0.0   \n",
       "1     1   PAYMENT   1864.28        21249.0        19384.72             0.0   \n",
       "2     1  TRANSFER    181.00          181.0            0.00             0.0   \n",
       "3     1  CASH_OUT    181.00          181.0            0.00         21182.0   \n",
       "4     1   PAYMENT  11668.14        41554.0        29885.86             0.0   \n",
       "\n",
       "   newbalanceDest  isFraud  isFlaggedFraud  \n",
       "0             0.0        0               0  \n",
       "1             0.0        0               0  \n",
       "2             0.0        1               0  \n",
       "3             0.0        1               0  \n",
       "4             0.0        0               0  "
      ]
     },
     "execution_count": 8,
     "metadata": {},
     "output_type": "execute_result"
    }
   ],
   "source": [
    "# Cleaning dataset further by dropping 'nameOrig' and 'nameDest' from dataset\n",
    "df_cleaned = df_cleaned.drop(['nameOrig','nameDest'], axis=1)\n",
    "df_cleaned.head()"
   ]
  },
  {
   "cell_type": "markdown",
   "id": "790a2eb8",
   "metadata": {},
   "source": [
    "# Exploratory Data Analysis (EDA)"
   ]
  },
  {
   "cell_type": "markdown",
   "id": "f4ed4d90",
   "metadata": {},
   "source": [
    "## Exploring the Data Visually"
   ]
  },
  {
   "cell_type": "code",
   "execution_count": 9,
   "id": "a33cae29",
   "metadata": {},
   "outputs": [
    {
     "data": {
      "text/plain": [
       "array([[<AxesSubplot:title={'center':'step'}>,\n",
       "        <AxesSubplot:title={'center':'amount'}>,\n",
       "        <AxesSubplot:title={'center':'oldbalanceOrg'}>],\n",
       "       [<AxesSubplot:title={'center':'newbalanceOrig'}>,\n",
       "        <AxesSubplot:title={'center':'oldbalanceDest'}>,\n",
       "        <AxesSubplot:title={'center':'newbalanceDest'}>],\n",
       "       [<AxesSubplot:title={'center':'isFraud'}>,\n",
       "        <AxesSubplot:title={'center':'isFlaggedFraud'}>, <AxesSubplot:>]],\n",
       "      dtype=object)"
      ]
     },
     "execution_count": 9,
     "metadata": {},
     "output_type": "execute_result"
    },
    {
     "data": {
      "image/png": "[encoded data removed]",
      "text/plain": [
       "<Figure size 3600x1800 with 9 Axes>"
      ]
     },
     "metadata": {
      "needs_background": "light"
     },
     "output_type": "display_data"
    }
   ],
   "source": [
    "df_cleaned.hist(figsize=(50,25))"
   ]
  },
  {
   "cell_type": "markdown",
   "id": "bf79aa44",
   "metadata": {},
   "source": [
    "Figuring out which is the most common type of online transaction:"
   ]
  },
  {
   "cell_type": "code",
   "execution_count": 10,
   "id": "b0b29c77",
   "metadata": {},
   "outputs": [
    {
     "data": {
      "text/plain": [
       "<AxesSubplot:xlabel='type', ylabel='count'>"
      ]
     },
     "execution_count": 10,
     "metadata": {},
     "output_type": "execute_result"
    },
    {
     "data": {
      "text/plain": [
       "Text(0.5, 1, 'Online Transactions')"
      ]
     },
     "execution_count": 10,
     "metadata": {},
     "output_type": "execute_result"
    },
    {
     "data": {
      "text/plain": [
       "Text(0, 0.5, 'Count')"
      ]
     },
     "execution_count": 10,
     "metadata": {},
     "output_type": "execute_result"
    },
    {
     "data": {
      "text/plain": [
       "Text(0.5, 0, 'Type of Transaction')"
      ]
     },
     "execution_count": 10,
     "metadata": {},
     "output_type": "execute_result"
    },
    {
     "data": {
      "image/png": "[encoded data removed]",
      "text/plain": [
       "<Figure size 432x288 with 1 Axes>"
      ]
     },
     "metadata": {
      "needs_background": "light"
     },
     "output_type": "display_data"
    }
   ],
   "source": [
    "sns.countplot(x='type',data=df_cleaned)\n",
    "plt.title('Online Transactions',y=1,fontsize=18)\n",
    "plt.ylabel('Count',fontsize=16)\n",
    "plt.xlabel('Type of Transaction',fontsize=16)"
   ]
  },
  {
   "cell_type": "markdown",
   "id": "54265c7d",
   "metadata": {},
   "source": [
    "CASH_OUT is the most common type of transaction, followed by PAYMENT."
   ]
  },
  {
   "cell_type": "code",
   "execution_count": 11,
   "id": "7d0807cf",
   "metadata": {},
   "outputs": [
    {
     "data": {
      "text/plain": [
       "<AxesSubplot:xlabel='type', ylabel='amount'>"
      ]
     },
     "execution_count": 11,
     "metadata": {},
     "output_type": "execute_result"
    },
    {
     "data": {
      "text/plain": [
       "Text(0.5, 1, 'Money Transferred per Transaction')"
      ]
     },
     "execution_count": 11,
     "metadata": {},
     "output_type": "execute_result"
    },
    {
     "data": {
      "text/plain": [
       "Text(0, 0.5, 'Amount of Money')"
      ]
     },
     "execution_count": 11,
     "metadata": {},
     "output_type": "execute_result"
    },
    {
     "data": {
      "text/plain": [
       "Text(0.5, 0, 'Type of Transaction')"
      ]
     },
     "execution_count": 11,
     "metadata": {},
     "output_type": "execute_result"
    },
    {
     "data": {
      "image/png": "[encoded data removed]",
      "text/plain": [
       "<Figure size 432x288 with 1 Axes>"
      ]
     },
     "metadata": {
      "needs_background": "light"
     },
     "output_type": "display_data"
    }
   ],
   "source": [
    "sns.barplot(x='type',y='amount',data=df_cleaned)\n",
    "plt.title('Money Transferred per Transaction',y=1,fontsize=18)\n",
    "plt.ylabel('Amount of Money',fontsize=16)\n",
    "plt.xlabel('Type of Transaction',fontsize=16)"
   ]
  },
  {
   "cell_type": "markdown",
   "id": "fdf2467c",
   "metadata": {},
   "source": [
    "However, it seems that TRANSFER was the type of transaction that moves the most amount of money."
   ]
  },
  {
   "cell_type": "code",
   "execution_count": 12,
   "id": "2837b32a",
   "metadata": {},
   "outputs": [
    {
     "data": {
      "text/plain": [
       "<AxesSubplot:xlabel='isFraud', ylabel='count'>"
      ]
     },
     "execution_count": 12,
     "metadata": {},
     "output_type": "execute_result"
    },
    {
     "data": {
      "text/plain": [
       "Text(0.5, 1, 'Fraudulent Transactions')"
      ]
     },
     "execution_count": 12,
     "metadata": {},
     "output_type": "execute_result"
    },
    {
     "data": {
      "text/plain": [
       "Text(0, 0.5, 'Count')"
      ]
     },
     "execution_count": 12,
     "metadata": {},
     "output_type": "execute_result"
    },
    {
     "data": {
      "text/plain": [
       "Text(0.5, 0, 'Fraud or Not')"
      ]
     },
     "execution_count": 12,
     "metadata": {},
     "output_type": "execute_result"
    },
    {
     "data": {
      "image/png": "[encoded data removed]",
      "text/plain": [
       "<Figure size 432x288 with 1 Axes>"
      ]
     },
     "metadata": {
      "needs_background": "light"
     },
     "output_type": "display_data"
    }
   ],
   "source": [
    "sns.countplot(x='isFraud',data=df_cleaned)\n",
    "plt.title('Fraudulent Transactions',y=1,fontsize=18)\n",
    "plt.ylabel('Count',fontsize=16)\n",
    "plt.xlabel('Fraud or Not',fontsize=16)"
   ]
  },
  {
   "cell_type": "code",
   "execution_count": 13,
   "id": "7f27b4ff",
   "metadata": {},
   "outputs": [
    {
     "data": {
      "text/plain": [
       "<Figure size 1080x432 with 0 Axes>"
      ]
     },
     "execution_count": 13,
     "metadata": {},
     "output_type": "execute_result"
    },
    {
     "data": {
      "text/plain": [
       "<matplotlib.collections.PathCollection at 0x7fea910fd9d0>"
      ]
     },
     "execution_count": 13,
     "metadata": {},
     "output_type": "execute_result"
    },
    {
     "data": {
      "text/plain": [
       "Text(0.5, 1, 'Fraudulent Transactions')"
      ]
     },
     "execution_count": 13,
     "metadata": {},
     "output_type": "execute_result"
    },
    {
     "data": {
      "text/plain": [
       "Text(0.5, 0, 'amount')"
      ]
     },
     "execution_count": 13,
     "metadata": {},
     "output_type": "execute_result"
    },
    {
     "data": {
      "text/plain": [
       "Text(0, 0.5, 'isFraud')"
      ]
     },
     "execution_count": 13,
     "metadata": {},
     "output_type": "execute_result"
    },
    {
     "data": {
      "image/png": "[encoded data removed]",
      "text/plain": [
       "<Figure size 1080x432 with 1 Axes>"
      ]
     },
     "metadata": {
      "needs_background": "light"
     },
     "output_type": "display_data"
    }
   ],
   "source": [
    "plt.figure(figsize=(15,6))\n",
    "plt.scatter(x='amount',y='isFraud',data=df_cleaned)\n",
    "plt.title('Fraudulent Transactions',y=1,fontsize=18)\n",
    "plt.xlabel('amount',fontsize=16)\n",
    "plt.ylabel('isFraud',fontsize=16)"
   ]
  },
  {
   "cell_type": "markdown",
   "id": "4aa274db",
   "metadata": {},
   "source": [
    "As seen above, the dataset is very unbalanced with most transactions pointing to not being fraudulent."
   ]
  },
  {
   "cell_type": "code",
   "execution_count": 14,
   "id": "ecab7e50",
   "metadata": {},
   "outputs": [
    {
     "data": {
      "text/plain": [
       "0    6354407\n",
       "1       8213\n",
       "Name: isFraud, dtype: int64"
      ]
     },
     "execution_count": 14,
     "metadata": {},
     "output_type": "execute_result"
    }
   ],
   "source": [
    "# Checking how many transactions are fraudulent or nor\n",
    "df_cleaned['isFraud'].value_counts()"
   ]
  },
  {
   "cell_type": "code",
   "execution_count": 15,
   "id": "6a58cfc9",
   "metadata": {},
   "outputs": [
    {
     "data": {
      "text/plain": [
       "0.129248881917699"
      ]
     },
     "execution_count": 15,
     "metadata": {},
     "output_type": "execute_result"
    }
   ],
   "source": [
    "8213/6354407*100"
   ]
  },
  {
   "cell_type": "markdown",
   "id": "06c48f0a",
   "metadata": {},
   "source": [
    "8213 transactions have been tagged as fraudulent in the dataset, which is approximately 0.13% of the total number of transactions."
   ]
  },
  {
   "cell_type": "code",
   "execution_count": 16,
   "id": "74b8af59",
   "metadata": {},
   "outputs": [
    {
     "data": {
      "text/plain": [
       "<Figure size 1152x576 with 0 Axes>"
      ]
     },
     "execution_count": 16,
     "metadata": {},
     "output_type": "execute_result"
    },
    {
     "data": {
      "text/plain": [
       "<AxesSubplot:xlabel='isFraud', ylabel='count'>"
      ]
     },
     "execution_count": 16,
     "metadata": {},
     "output_type": "execute_result"
    },
    {
     "data": {
      "text/plain": [
       "<matplotlib.legend.Legend at 0x7fea32f56670>"
      ]
     },
     "execution_count": 16,
     "metadata": {},
     "output_type": "execute_result"
    },
    {
     "data": {
      "image/png": "[encoded data removed]",
      "text/plain": [
       "<Figure size 1152x576 with 1 Axes>"
      ]
     },
     "metadata": {
      "needs_background": "light"
     },
     "output_type": "display_data"
    }
   ],
   "source": [
    "# Finding out which type of transactions comprise fraudulent transactions\n",
    "plt.figure(figsize=(16,8))\n",
    "sns.countplot(x='isFraud',data=df_cleaned,hue='type')\n",
    "plt.legend(loc=[0.85,0.8])"
   ]
  },
  {
   "cell_type": "markdown",
   "id": "31d9403e",
   "metadata": {},
   "source": [
    "It appears that fraudulent transactions are found in TRANSFER and CASH_OUT transaction types."
   ]
  },
  {
   "cell_type": "markdown",
   "id": "91bceff5",
   "metadata": {},
   "source": [
    "## Exploring Data Correlation and Heatmap"
   ]
  },
  {
   "cell_type": "code",
   "execution_count": 17,
   "id": "bb661288",
   "metadata": {},
   "outputs": [
    {
     "data": {
      "text/html": [
       "<div>\n",
       "<style scoped>\n",
       "    .dataframe tbody tr th:only-of-type {\n",
       "        vertical-align: middle;\n",
       "    }\n",
       "\n",
       "    .dataframe tbody tr th {\n",
       "        vertical-align: top;\n",
       "    }\n",
       "\n",
       "    .dataframe thead th {\n",
       "        text-align: right;\n",
       "    }\n",
       "</style>\n",
       "<table border=\"1\" class=\"dataframe\">\n",
       "  <thead>\n",
       "    <tr style=\"text-align: right;\">\n",
       "      <th></th>\n",
       "      <th>step</th>\n",
       "      <th>type</th>\n",
       "      <th>amount</th>\n",
       "      <th>oldbalanceOrg</th>\n",
       "      <th>newbalanceOrig</th>\n",
       "      <th>oldbalanceDest</th>\n",
       "      <th>newbalanceDest</th>\n",
       "      <th>isFraud</th>\n",
       "      <th>isFlaggedFraud</th>\n",
       "    </tr>\n",
       "  </thead>\n",
       "  <tbody>\n",
       "    <tr>\n",
       "      <th>0</th>\n",
       "      <td>1</td>\n",
       "      <td>PAYMENT</td>\n",
       "      <td>9839.64</td>\n",
       "      <td>170136.0</td>\n",
       "      <td>160296.36</td>\n",
       "      <td>0.0</td>\n",
       "      <td>0.0</td>\n",
       "      <td>0</td>\n",
       "      <td>0</td>\n",
       "    </tr>\n",
       "    <tr>\n",
       "      <th>1</th>\n",
       "      <td>1</td>\n",
       "      <td>PAYMENT</td>\n",
       "      <td>1864.28</td>\n",
       "      <td>21249.0</td>\n",
       "      <td>19384.72</td>\n",
       "      <td>0.0</td>\n",
       "      <td>0.0</td>\n",
       "      <td>0</td>\n",
       "      <td>0</td>\n",
       "    </tr>\n",
       "    <tr>\n",
       "      <th>2</th>\n",
       "      <td>1</td>\n",
       "      <td>TRANSFER</td>\n",
       "      <td>181.00</td>\n",
       "      <td>181.0</td>\n",
       "      <td>0.00</td>\n",
       "      <td>0.0</td>\n",
       "      <td>0.0</td>\n",
       "      <td>1</td>\n",
       "      <td>0</td>\n",
       "    </tr>\n",
       "    <tr>\n",
       "      <th>3</th>\n",
       "      <td>1</td>\n",
       "      <td>CASH_OUT</td>\n",
       "      <td>181.00</td>\n",
       "      <td>181.0</td>\n",
       "      <td>0.00</td>\n",
       "      <td>21182.0</td>\n",
       "      <td>0.0</td>\n",
       "      <td>1</td>\n",
       "      <td>0</td>\n",
       "    </tr>\n",
       "    <tr>\n",
       "      <th>4</th>\n",
       "      <td>1</td>\n",
       "      <td>PAYMENT</td>\n",
       "      <td>11668.14</td>\n",
       "      <td>41554.0</td>\n",
       "      <td>29885.86</td>\n",
       "      <td>0.0</td>\n",
       "      <td>0.0</td>\n",
       "      <td>0</td>\n",
       "      <td>0</td>\n",
       "    </tr>\n",
       "  </tbody>\n",
       "</table>\n",
       "</div>"
      ],
      "text/plain": [
       "   step      type    amount  oldbalanceOrg  newbalanceOrig  oldbalanceDest  \\\n",
       "0     1   PAYMENT   9839.64       170136.0       160296.36             0.0   \n",
       "1     1   PAYMENT   1864.28        21249.0        19384.72             0.0   \n",
       "2     1  TRANSFER    181.00          181.0            0.00             0.0   \n",
       "3     1  CASH_OUT    181.00          181.0            0.00         21182.0   \n",
       "4     1   PAYMENT  11668.14        41554.0        29885.86             0.0   \n",
       "\n",
       "   newbalanceDest  isFraud  isFlaggedFraud  \n",
       "0             0.0        0               0  \n",
       "1             0.0        0               0  \n",
       "2             0.0        1               0  \n",
       "3             0.0        1               0  \n",
       "4             0.0        0               0  "
      ]
     },
     "execution_count": 17,
     "metadata": {},
     "output_type": "execute_result"
    }
   ],
   "source": [
    "# Creating a separate copy of the dataframe just for heatmap and pairplot\n",
    "df_vis = df_cleaned.copy()\n",
    "df_vis.head()"
   ]
  },
  {
   "cell_type": "code",
   "execution_count": 18,
   "id": "9eaf09dd",
   "metadata": {},
   "outputs": [
    {
     "data": {
      "text/html": [
       "<div>\n",
       "<style scoped>\n",
       "    .dataframe tbody tr th:only-of-type {\n",
       "        vertical-align: middle;\n",
       "    }\n",
       "\n",
       "    .dataframe tbody tr th {\n",
       "        vertical-align: top;\n",
       "    }\n",
       "\n",
       "    .dataframe thead th {\n",
       "        text-align: right;\n",
       "    }\n",
       "</style>\n",
       "<table border=\"1\" class=\"dataframe\">\n",
       "  <thead>\n",
       "    <tr style=\"text-align: right;\">\n",
       "      <th></th>\n",
       "      <th>step</th>\n",
       "      <th>type</th>\n",
       "      <th>amount</th>\n",
       "      <th>oldbalanceOrg</th>\n",
       "      <th>newbalanceOrig</th>\n",
       "      <th>oldbalanceDest</th>\n",
       "      <th>newbalanceDest</th>\n",
       "      <th>isFraud</th>\n",
       "      <th>isFlaggedFraud</th>\n",
       "      <th>CASH_OUT</th>\n",
       "      <th>DEBIT</th>\n",
       "      <th>PAYMENT</th>\n",
       "      <th>TRANSFER</th>\n",
       "    </tr>\n",
       "  </thead>\n",
       "  <tbody>\n",
       "    <tr>\n",
       "      <th>0</th>\n",
       "      <td>1</td>\n",
       "      <td>PAYMENT</td>\n",
       "      <td>9839.64</td>\n",
       "      <td>170136.0</td>\n",
       "      <td>160296.36</td>\n",
       "      <td>0.0</td>\n",
       "      <td>0.0</td>\n",
       "      <td>0</td>\n",
       "      <td>0</td>\n",
       "      <td>0</td>\n",
       "      <td>0</td>\n",
       "      <td>1</td>\n",
       "      <td>0</td>\n",
       "    </tr>\n",
       "    <tr>\n",
       "      <th>1</th>\n",
       "      <td>1</td>\n",
       "      <td>PAYMENT</td>\n",
       "      <td>1864.28</td>\n",
       "      <td>21249.0</td>\n",
       "      <td>19384.72</td>\n",
       "      <td>0.0</td>\n",
       "      <td>0.0</td>\n",
       "      <td>0</td>\n",
       "      <td>0</td>\n",
       "      <td>0</td>\n",
       "      <td>0</td>\n",
       "      <td>1</td>\n",
       "      <td>0</td>\n",
       "    </tr>\n",
       "    <tr>\n",
       "      <th>2</th>\n",
       "      <td>1</td>\n",
       "      <td>TRANSFER</td>\n",
       "      <td>181.00</td>\n",
       "      <td>181.0</td>\n",
       "      <td>0.00</td>\n",
       "      <td>0.0</td>\n",
       "      <td>0.0</td>\n",
       "      <td>1</td>\n",
       "      <td>0</td>\n",
       "      <td>0</td>\n",
       "      <td>0</td>\n",
       "      <td>0</td>\n",
       "      <td>1</td>\n",
       "    </tr>\n",
       "    <tr>\n",
       "      <th>3</th>\n",
       "      <td>1</td>\n",
       "      <td>CASH_OUT</td>\n",
       "      <td>181.00</td>\n",
       "      <td>181.0</td>\n",
       "      <td>0.00</td>\n",
       "      <td>21182.0</td>\n",
       "      <td>0.0</td>\n",
       "      <td>1</td>\n",
       "      <td>0</td>\n",
       "      <td>1</td>\n",
       "      <td>0</td>\n",
       "      <td>0</td>\n",
       "      <td>0</td>\n",
       "    </tr>\n",
       "    <tr>\n",
       "      <th>4</th>\n",
       "      <td>1</td>\n",
       "      <td>PAYMENT</td>\n",
       "      <td>11668.14</td>\n",
       "      <td>41554.0</td>\n",
       "      <td>29885.86</td>\n",
       "      <td>0.0</td>\n",
       "      <td>0.0</td>\n",
       "      <td>0</td>\n",
       "      <td>0</td>\n",
       "      <td>0</td>\n",
       "      <td>0</td>\n",
       "      <td>1</td>\n",
       "      <td>0</td>\n",
       "    </tr>\n",
       "  </tbody>\n",
       "</table>\n",
       "</div>"
      ],
      "text/plain": [
       "   step      type    amount  oldbalanceOrg  newbalanceOrig  oldbalanceDest  \\\n",
       "0     1   PAYMENT   9839.64       170136.0       160296.36             0.0   \n",
       "1     1   PAYMENT   1864.28        21249.0        19384.72             0.0   \n",
       "2     1  TRANSFER    181.00          181.0            0.00             0.0   \n",
       "3     1  CASH_OUT    181.00          181.0            0.00         21182.0   \n",
       "4     1   PAYMENT  11668.14        41554.0        29885.86             0.0   \n",
       "\n",
       "   newbalanceDest  isFraud  isFlaggedFraud  CASH_OUT  DEBIT  PAYMENT  TRANSFER  \n",
       "0             0.0        0               0         0      0        1         0  \n",
       "1             0.0        0               0         0      0        1         0  \n",
       "2             0.0        1               0         0      0        0         1  \n",
       "3             0.0        1               0         1      0        0         0  \n",
       "4             0.0        0               0         0      0        1         0  "
      ]
     },
     "execution_count": 18,
     "metadata": {},
     "output_type": "execute_result"
    }
   ],
   "source": [
    "# Handling categorical variables\n",
    "type_new = pd.get_dummies(df_vis['type'],drop_first=True)\n",
    "df_vis = pd.concat([df_vis,type_new],axis=1)\n",
    "df_vis.head()"
   ]
  },
  {
   "cell_type": "code",
   "execution_count": 19,
   "id": "b98e8a5d",
   "metadata": {},
   "outputs": [],
   "source": [
    "# Transforming features of object dtypes to numeric features\n",
    "from sklearn.preprocessing import LabelEncoder\n",
    "le = LabelEncoder()\n",
    "\n",
    "for col in df_vis:\n",
    "    if df_vis[col].dtypes=='object':\n",
    "        df_vis[col]=le.fit_transform(df_vis[col])"
   ]
  },
  {
   "cell_type": "code",
   "execution_count": 20,
   "id": "3340e134",
   "metadata": {},
   "outputs": [
    {
     "data": {
      "text/html": [
       "<div>\n",
       "<style scoped>\n",
       "    .dataframe tbody tr th:only-of-type {\n",
       "        vertical-align: middle;\n",
       "    }\n",
       "\n",
       "    .dataframe tbody tr th {\n",
       "        vertical-align: top;\n",
       "    }\n",
       "\n",
       "    .dataframe thead th {\n",
       "        text-align: right;\n",
       "    }\n",
       "</style>\n",
       "<table border=\"1\" class=\"dataframe\">\n",
       "  <thead>\n",
       "    <tr style=\"text-align: right;\">\n",
       "      <th></th>\n",
       "      <th>step</th>\n",
       "      <th>type</th>\n",
       "      <th>amount</th>\n",
       "      <th>oldbalanceOrg</th>\n",
       "      <th>newbalanceOrig</th>\n",
       "      <th>oldbalanceDest</th>\n",
       "      <th>newbalanceDest</th>\n",
       "      <th>isFraud</th>\n",
       "      <th>isFlaggedFraud</th>\n",
       "      <th>CASH_OUT</th>\n",
       "      <th>DEBIT</th>\n",
       "      <th>PAYMENT</th>\n",
       "      <th>TRANSFER</th>\n",
       "    </tr>\n",
       "  </thead>\n",
       "  <tbody>\n",
       "    <tr>\n",
       "      <th>step</th>\n",
       "      <td>1.000000</td>\n",
       "      <td>0.006635</td>\n",
       "      <td>0.022373</td>\n",
       "      <td>-0.010058</td>\n",
       "      <td>-0.010299</td>\n",
       "      <td>0.027665</td>\n",
       "      <td>0.025888</td>\n",
       "      <td>0.031578</td>\n",
       "      <td>0.003277</td>\n",
       "      <td>-0.012918</td>\n",
       "      <td>0.002869</td>\n",
       "      <td>0.004926</td>\n",
       "      <td>0.006925</td>\n",
       "    </tr>\n",
       "    <tr>\n",
       "      <th>type</th>\n",
       "      <td>0.006635</td>\n",
       "      <td>1.000000</td>\n",
       "      <td>0.088419</td>\n",
       "      <td>-0.339760</td>\n",
       "      <td>-0.352758</td>\n",
       "      <td>-0.104679</td>\n",
       "      <td>-0.059364</td>\n",
       "      <td>0.020833</td>\n",
       "      <td>0.002685</td>\n",
       "      <td>-0.389566</td>\n",
       "      <td>0.017141</td>\n",
       "      <td>0.680754</td>\n",
       "      <td>0.511893</td>\n",
       "    </tr>\n",
       "    <tr>\n",
       "      <th>amount</th>\n",
       "      <td>0.022373</td>\n",
       "      <td>0.088419</td>\n",
       "      <td>1.000000</td>\n",
       "      <td>-0.002762</td>\n",
       "      <td>-0.007861</td>\n",
       "      <td>0.294137</td>\n",
       "      <td>0.459304</td>\n",
       "      <td>0.076688</td>\n",
       "      <td>0.012295</td>\n",
       "      <td>-0.004376</td>\n",
       "      <td>-0.023379</td>\n",
       "      <td>-0.197444</td>\n",
       "      <td>0.365896</td>\n",
       "    </tr>\n",
       "    <tr>\n",
       "      <th>oldbalanceOrg</th>\n",
       "      <td>-0.010058</td>\n",
       "      <td>-0.339760</td>\n",
       "      <td>-0.002762</td>\n",
       "      <td>1.000000</td>\n",
       "      <td>0.998803</td>\n",
       "      <td>0.066243</td>\n",
       "      <td>0.042029</td>\n",
       "      <td>0.010154</td>\n",
       "      <td>0.003835</td>\n",
       "      <td>-0.200899</td>\n",
       "      <td>-0.021450</td>\n",
       "      <td>-0.189486</td>\n",
       "      <td>-0.081593</td>\n",
       "    </tr>\n",
       "    <tr>\n",
       "      <th>newbalanceOrig</th>\n",
       "      <td>-0.010299</td>\n",
       "      <td>-0.352758</td>\n",
       "      <td>-0.007861</td>\n",
       "      <td>0.998803</td>\n",
       "      <td>1.000000</td>\n",
       "      <td>0.067812</td>\n",
       "      <td>0.041837</td>\n",
       "      <td>-0.008148</td>\n",
       "      <td>0.003776</td>\n",
       "      <td>-0.210977</td>\n",
       "      <td>-0.021872</td>\n",
       "      <td>-0.193915</td>\n",
       "      <td>-0.087355</td>\n",
       "    </tr>\n",
       "    <tr>\n",
       "      <th>oldbalanceDest</th>\n",
       "      <td>0.027665</td>\n",
       "      <td>-0.104679</td>\n",
       "      <td>0.294137</td>\n",
       "      <td>0.066243</td>\n",
       "      <td>0.067812</td>\n",
       "      <td>1.000000</td>\n",
       "      <td>0.976569</td>\n",
       "      <td>-0.005885</td>\n",
       "      <td>-0.000513</td>\n",
       "      <td>0.086028</td>\n",
       "      <td>0.009347</td>\n",
       "      <td>-0.231455</td>\n",
       "      <td>0.130476</td>\n",
       "    </tr>\n",
       "    <tr>\n",
       "      <th>newbalanceDest</th>\n",
       "      <td>0.025888</td>\n",
       "      <td>-0.059364</td>\n",
       "      <td>0.459304</td>\n",
       "      <td>0.042029</td>\n",
       "      <td>0.041837</td>\n",
       "      <td>0.976569</td>\n",
       "      <td>1.000000</td>\n",
       "      <td>0.000535</td>\n",
       "      <td>-0.000529</td>\n",
       "      <td>0.093476</td>\n",
       "      <td>0.006346</td>\n",
       "      <td>-0.238315</td>\n",
       "      <td>0.191701</td>\n",
       "    </tr>\n",
       "    <tr>\n",
       "      <th>isFraud</th>\n",
       "      <td>0.031578</td>\n",
       "      <td>0.020833</td>\n",
       "      <td>0.076688</td>\n",
       "      <td>0.010154</td>\n",
       "      <td>-0.008148</td>\n",
       "      <td>-0.005885</td>\n",
       "      <td>0.000535</td>\n",
       "      <td>1.000000</td>\n",
       "      <td>0.044109</td>\n",
       "      <td>0.011256</td>\n",
       "      <td>-0.002911</td>\n",
       "      <td>-0.025697</td>\n",
       "      <td>0.053869</td>\n",
       "    </tr>\n",
       "    <tr>\n",
       "      <th>isFlaggedFraud</th>\n",
       "      <td>0.003277</td>\n",
       "      <td>0.002685</td>\n",
       "      <td>0.012295</td>\n",
       "      <td>0.003835</td>\n",
       "      <td>0.003776</td>\n",
       "      <td>-0.000513</td>\n",
       "      <td>-0.000529</td>\n",
       "      <td>0.044109</td>\n",
       "      <td>1.000000</td>\n",
       "      <td>-0.001168</td>\n",
       "      <td>-0.000128</td>\n",
       "      <td>-0.001133</td>\n",
       "      <td>0.005245</td>\n",
       "    </tr>\n",
       "    <tr>\n",
       "      <th>CASH_OUT</th>\n",
       "      <td>-0.012918</td>\n",
       "      <td>-0.389566</td>\n",
       "      <td>-0.004376</td>\n",
       "      <td>-0.200899</td>\n",
       "      <td>-0.210977</td>\n",
       "      <td>0.086028</td>\n",
       "      <td>0.093476</td>\n",
       "      <td>0.011256</td>\n",
       "      <td>-0.001168</td>\n",
       "      <td>1.000000</td>\n",
       "      <td>-0.059625</td>\n",
       "      <td>-0.526422</td>\n",
       "      <td>-0.222672</td>\n",
       "    </tr>\n",
       "    <tr>\n",
       "      <th>DEBIT</th>\n",
       "      <td>0.002869</td>\n",
       "      <td>0.017141</td>\n",
       "      <td>-0.023379</td>\n",
       "      <td>-0.021450</td>\n",
       "      <td>-0.021872</td>\n",
       "      <td>0.009347</td>\n",
       "      <td>0.006346</td>\n",
       "      <td>-0.002911</td>\n",
       "      <td>-0.000128</td>\n",
       "      <td>-0.059625</td>\n",
       "      <td>1.000000</td>\n",
       "      <td>-0.057868</td>\n",
       "      <td>-0.024478</td>\n",
       "    </tr>\n",
       "    <tr>\n",
       "      <th>PAYMENT</th>\n",
       "      <td>0.004926</td>\n",
       "      <td>0.680754</td>\n",
       "      <td>-0.197444</td>\n",
       "      <td>-0.189486</td>\n",
       "      <td>-0.193915</td>\n",
       "      <td>-0.231455</td>\n",
       "      <td>-0.238315</td>\n",
       "      <td>-0.025697</td>\n",
       "      <td>-0.001133</td>\n",
       "      <td>-0.526422</td>\n",
       "      <td>-0.057868</td>\n",
       "      <td>1.000000</td>\n",
       "      <td>-0.216110</td>\n",
       "    </tr>\n",
       "    <tr>\n",
       "      <th>TRANSFER</th>\n",
       "      <td>0.006925</td>\n",
       "      <td>0.511893</td>\n",
       "      <td>0.365896</td>\n",
       "      <td>-0.081593</td>\n",
       "      <td>-0.087355</td>\n",
       "      <td>0.130476</td>\n",
       "      <td>0.191701</td>\n",
       "      <td>0.053869</td>\n",
       "      <td>0.005245</td>\n",
       "      <td>-0.222672</td>\n",
       "      <td>-0.024478</td>\n",
       "      <td>-0.216110</td>\n",
       "      <td>1.000000</td>\n",
       "    </tr>\n",
       "  </tbody>\n",
       "</table>\n",
       "</div>"
      ],
      "text/plain": [
       "                    step      type    amount  oldbalanceOrg  newbalanceOrig  \\\n",
       "step            1.000000  0.006635  0.022373      -0.010058       -0.010299   \n",
       "type            0.006635  1.000000  0.088419      -0.339760       -0.352758   \n",
       "amount          0.022373  0.088419  1.000000      -0.002762       -0.007861   \n",
       "oldbalanceOrg  -0.010058 -0.339760 -0.002762       1.000000        0.998803   \n",
       "newbalanceOrig -0.010299 -0.352758 -0.007861       0.998803        1.000000   \n",
       "oldbalanceDest  0.027665 -0.104679  0.294137       0.066243        0.067812   \n",
       "newbalanceDest  0.025888 -0.059364  0.459304       0.042029        0.041837   \n",
       "isFraud         0.031578  0.020833  0.076688       0.010154       -0.008148   \n",
       "isFlaggedFraud  0.003277  0.002685  0.012295       0.003835        0.003776   \n",
       "CASH_OUT       -0.012918 -0.389566 -0.004376      -0.200899       -0.210977   \n",
       "DEBIT           0.002869  0.017141 -0.023379      -0.021450       -0.021872   \n",
       "PAYMENT         0.004926  0.680754 -0.197444      -0.189486       -0.193915   \n",
       "TRANSFER        0.006925  0.511893  0.365896      -0.081593       -0.087355   \n",
       "\n",
       "                oldbalanceDest  newbalanceDest   isFraud  isFlaggedFraud  \\\n",
       "step                  0.027665        0.025888  0.031578        0.003277   \n",
       "type                 -0.104679       -0.059364  0.020833        0.002685   \n",
       "amount                0.294137        0.459304  0.076688        0.012295   \n",
       "oldbalanceOrg         0.066243        0.042029  0.010154        0.003835   \n",
       "newbalanceOrig        0.067812        0.041837 -0.008148        0.003776   \n",
       "oldbalanceDest        1.000000        0.976569 -0.005885       -0.000513   \n",
       "newbalanceDest        0.976569        1.000000  0.000535       -0.000529   \n",
       "isFraud              -0.005885        0.000535  1.000000        0.044109   \n",
       "isFlaggedFraud       -0.000513       -0.000529  0.044109        1.000000   \n",
       "CASH_OUT              0.086028        0.093476  0.011256       -0.001168   \n",
       "DEBIT                 0.009347        0.006346 -0.002911       -0.000128   \n",
       "PAYMENT              -0.231455       -0.238315 -0.025697       -0.001133   \n",
       "TRANSFER              0.130476        0.191701  0.053869        0.005245   \n",
       "\n",
       "                CASH_OUT     DEBIT   PAYMENT  TRANSFER  \n",
       "step           -0.012918  0.002869  0.004926  0.006925  \n",
       "type           -0.389566  0.017141  0.680754  0.511893  \n",
       "amount         -0.004376 -0.023379 -0.197444  0.365896  \n",
       "oldbalanceOrg  -0.200899 -0.021450 -0.189486 -0.081593  \n",
       "newbalanceOrig -0.210977 -0.021872 -0.193915 -0.087355  \n",
       "oldbalanceDest  0.086028  0.009347 -0.231455  0.130476  \n",
       "newbalanceDest  0.093476  0.006346 -0.238315  0.191701  \n",
       "isFraud         0.011256 -0.002911 -0.025697  0.053869  \n",
       "isFlaggedFraud -0.001168 -0.000128 -0.001133  0.005245  \n",
       "CASH_OUT        1.000000 -0.059625 -0.526422 -0.222672  \n",
       "DEBIT          -0.059625  1.000000 -0.057868 -0.024478  \n",
       "PAYMENT        -0.526422 -0.057868  1.000000 -0.216110  \n",
       "TRANSFER       -0.222672 -0.024478 -0.216110  1.000000  "
      ]
     },
     "execution_count": 20,
     "metadata": {},
     "output_type": "execute_result"
    }
   ],
   "source": [
    "# Exploring the correlation between target (isFraud) and other columns\n",
    "df_vis.corr()"
   ]
  },
  {
   "cell_type": "code",
   "execution_count": 21,
   "id": "f9769c92",
   "metadata": {},
   "outputs": [
    {
     "data": {
      "text/plain": [
       "<Figure size 1080x576 with 0 Axes>"
      ]
     },
     "execution_count": 21,
     "metadata": {},
     "output_type": "execute_result"
    },
    {
     "data": {
      "text/plain": [
       "[Text(0.5, 0, 'step'),\n",
       " Text(1.5, 0, 'type'),\n",
       " Text(2.5, 0, 'amount'),\n",
       " Text(3.5, 0, 'oldbalanceOrg'),\n",
       " Text(4.5, 0, 'newbalanceOrig'),\n",
       " Text(5.5, 0, 'oldbalanceDest'),\n",
       " Text(6.5, 0, 'newbalanceDest'),\n",
       " Text(7.5, 0, 'isFraud'),\n",
       " Text(8.5, 0, 'isFlaggedFraud'),\n",
       " Text(9.5, 0, 'CASH_OUT'),\n",
       " Text(10.5, 0, 'DEBIT'),\n",
       " Text(11.5, 0, 'PAYMENT'),\n",
       " Text(12.5, 0, 'TRANSFER')]"
      ]
     },
     "execution_count": 21,
     "metadata": {},
     "output_type": "execute_result"
    },
    {
     "data": {
      "image/png": "[encoded data removed]",
      "text/plain": [
       "<Figure size 1080x576 with 2 Axes>"
      ]
     },
     "metadata": {
      "needs_background": "light"
     },
     "output_type": "display_data"
    }
   ],
   "source": [
    "corrdf = df_vis.corr()\n",
    "top_corr_features = corrdf.index\n",
    "plt.figure(figsize=(15,8))\n",
    "df_heatmap = sns.heatmap(df_vis[top_corr_features].corr(),annot=True,cmap=\"coolwarm\", vmin=-1)\n",
    "df_heatmap.set_xticklabels(df_heatmap.get_xticklabels(),rotation=45)"
   ]
  },
  {
   "cell_type": "markdown",
   "id": "b87f6694",
   "metadata": {},
   "source": [
    "Through the heatmap we can see our features which are positively and negatively correlated."
   ]
  },
  {
   "cell_type": "markdown",
   "id": "ec10e3d9",
   "metadata": {},
   "source": [
    "# Apply Machine Learning Algorithms"
   ]
  },
  {
   "cell_type": "markdown",
   "id": "11fdf1e4",
   "metadata": {},
   "source": [
    "## Train, Test and Split Data"
   ]
  },
  {
   "cell_type": "code",
   "execution_count": 22,
   "id": "75e06666",
   "metadata": {},
   "outputs": [],
   "source": [
    "# Imports\n",
    "from sklearn.model_selection import train_test_split\n",
    "from sklearn.metrics import accuracy_score\n",
    "from sklearn.metrics import confusion_matrix\n",
    "from sklearn.metrics import ConfusionMatrixDisplay\n",
    "from sklearn.metrics import roc_curve, roc_auc_score\n",
    "from sklearn.metrics import RocCurveDisplay\n",
    "from sklearn import metrics"
   ]
  },
  {
   "cell_type": "code",
   "execution_count": 23,
   "id": "85b85a87",
   "metadata": {},
   "outputs": [
    {
     "name": "stdout",
     "output_type": "stream",
     "text": [
      "X shape : (6362620, 7)\n",
      "y shape : (6362620,)\n"
     ]
    }
   ],
   "source": [
    "y = df_cleaned['isFraud']\n",
    "X = df_cleaned.drop(['isFraud','type'],axis = 1)\n",
    "\n",
    "X_cols = X.columns\n",
    "\n",
    "print('X shape :', X.shape)\n",
    "print('y shape :', y.shape)"
   ]
  },
  {
   "cell_type": "code",
   "execution_count": 24,
   "id": "c2b85f8c",
   "metadata": {},
   "outputs": [],
   "source": [
    "# Splitting the data using an 80/20 train/test split and assigning to appropriate variables\n",
    "X_train,X_test, y_train, y_test = train_test_split(X,y, random_state= 1,test_size=0.2)"
   ]
  },
  {
   "cell_type": "markdown",
   "id": "3239f0eb",
   "metadata": {},
   "source": [
    "## Logistic Regression Model"
   ]
  },
  {
   "cell_type": "code",
   "execution_count": 25,
   "id": "39ea57b4",
   "metadata": {},
   "outputs": [
    {
     "data": {
      "text/plain": [
       "LogisticRegression()"
      ]
     },
     "execution_count": 25,
     "metadata": {},
     "output_type": "execute_result"
    }
   ],
   "source": [
    "from sklearn.linear_model import LogisticRegression\n",
    "\n",
    "lr = LogisticRegression()\n",
    "lr.fit(X_train,y_train)\n",
    "\n",
    "y_pred = lr.predict(X_test)"
   ]
  },
  {
   "cell_type": "code",
   "execution_count": 26,
   "id": "586c48c1",
   "metadata": {},
   "outputs": [
    {
     "name": "stdout",
     "output_type": "stream",
     "text": [
      "Accuracy Score: 0.9982043560671547\n"
     ]
    },
    {
     "data": {
      "image/png": "[encoded data removed]",
      "text/plain": [
       "<Figure size 432x288 with 2 Axes>"
      ]
     },
     "metadata": {
      "needs_background": "light"
     },
     "output_type": "display_data"
    }
   ],
   "source": [
    "print (f'Accuracy Score: {accuracy_score(y_test,y_pred)}')\n",
    "\n",
    "font = {'size'   : 15}\n",
    "plt.rc('font', **font) \n",
    "\n",
    "cm = confusion_matrix(y_test, y_pred) \n",
    "\n",
    "cm_display = ConfusionMatrixDisplay(cm).plot()"
   ]
  },
  {
   "cell_type": "code",
   "execution_count": 27,
   "id": "37a2cf56",
   "metadata": {},
   "outputs": [
    {
     "data": {
      "text/plain": [
       "[<matplotlib.lines.Line2D at 0x7fea45c51a00>]"
      ]
     },
     "execution_count": 27,
     "metadata": {},
     "output_type": "execute_result"
    },
    {
     "data": {
      "text/plain": [
       "Text(0.5, 1.0, 'ROC')"
      ]
     },
     "execution_count": 27,
     "metadata": {},
     "output_type": "execute_result"
    },
    {
     "data": {
      "image/png": "[encoded data removed]",
      "text/plain": [
       "<Figure size 432x288 with 1 Axes>"
      ]
     },
     "metadata": {
      "needs_background": "light"
     },
     "output_type": "display_data"
    },
    {
     "name": "stdout",
     "output_type": "stream",
     "text": [
      "AUC score:  0.8745892976976554\n"
     ]
    }
   ],
   "source": [
    "y_score = lr.predict_proba(X_test)[:,1]\n",
    "\n",
    "fpr, tpr, _ = roc_curve(y_test, y_score, pos_label= 1)\n",
    "roc_auc = metrics.auc(fpr, tpr)\n",
    "roc_display = RocCurveDisplay(fpr=fpr, tpr=tpr,roc_auc=roc_auc).plot()\n",
    "\n",
    "\n",
    "plt.plot([0,1],[0,1],'r--')\n",
    "plt.title('ROC')\n",
    "plt.show()\n",
    "\n",
    "\n",
    "print('AUC score: ',roc_auc) "
   ]
  },
  {
   "cell_type": "markdown",
   "id": "483968f2",
   "metadata": {},
   "source": [
    "## Decision Tree Model"
   ]
  },
  {
   "cell_type": "code",
   "execution_count": 28,
   "id": "b7d69539",
   "metadata": {},
   "outputs": [
    {
     "data": {
      "text/plain": [
       "DecisionTreeClassifier()"
      ]
     },
     "execution_count": 28,
     "metadata": {},
     "output_type": "execute_result"
    }
   ],
   "source": [
    "from sklearn.tree import DecisionTreeClassifier\n",
    "\n",
    "dt = DecisionTreeClassifier()\n",
    "dt.fit(X_train,y_train)\n",
    "\n",
    "y_pred = dt.predict(X_test)"
   ]
  },
  {
   "cell_type": "code",
   "execution_count": 29,
   "id": "e7d41144",
   "metadata": {},
   "outputs": [
    {
     "name": "stdout",
     "output_type": "stream",
     "text": [
      "Accuracy Score: 0.9996015792236531\n"
     ]
    },
    {
     "data": {
      "image/png": "[encoded data removed]",
      "text/plain": [
       "<Figure size 432x288 with 2 Axes>"
      ]
     },
     "metadata": {
      "needs_background": "light"
     },
     "output_type": "display_data"
    }
   ],
   "source": [
    "print (f'Accuracy Score: {accuracy_score(y_test,y_pred)}')\n",
    "\n",
    "font = {'size'   : 15}\n",
    "plt.rc('font', **font) \n",
    "\n",
    "cm = confusion_matrix(y_test, y_pred) \n",
    "\n",
    "cm_display = ConfusionMatrixDisplay(cm).plot()"
   ]
  },
  {
   "cell_type": "code",
   "execution_count": 30,
   "id": "27971956",
   "metadata": {},
   "outputs": [
    {
     "data": {
      "text/plain": [
       "[<matplotlib.lines.Line2D at 0x7fea5b7f1fa0>]"
      ]
     },
     "execution_count": 30,
     "metadata": {},
     "output_type": "execute_result"
    },
    {
     "data": {
      "text/plain": [
       "Text(0.5, 1.0, 'ROC')"
      ]
     },
     "execution_count": 30,
     "metadata": {},
     "output_type": "execute_result"
    },
    {
     "data": {
      "image/png": "[encoded data removed]",
      "text/plain": [
       "<Figure size 432x288 with 1 Axes>"
      ]
     },
     "metadata": {
      "needs_background": "light"
     },
     "output_type": "display_data"
    },
    {
     "name": "stdout",
     "output_type": "stream",
     "text": [
      "AUC score:  0.9252160763880688\n"
     ]
    }
   ],
   "source": [
    "y_score = dt.predict_proba(X_test)[:,1]\n",
    "\n",
    "fpr, tpr, _ = roc_curve(y_test, y_score, pos_label=1)\n",
    "roc_auc = metrics.auc(fpr, tpr)\n",
    "roc_display = RocCurveDisplay(fpr=fpr, tpr=tpr,roc_auc=roc_auc).plot()\n",
    "\n",
    "plt.plot([0,1],[0,1],'r--')\n",
    "plt.title('ROC')\n",
    "plt.show()\n",
    "\n",
    "\n",
    "print('AUC score: ',roc_auc_score(y_test,dt.predict_proba(X_test)[:,1])) "
   ]
  },
  {
   "cell_type": "markdown",
   "id": "43a770be",
   "metadata": {},
   "source": [
    "# Model Evaluation"
   ]
  },
  {
   "cell_type": "markdown",
   "id": "deb92209",
   "metadata": {},
   "source": [
    "Before we start to compare models, it is known that 8213 transactions have been tagged as fraudulent in the dataset, which is approximately 0.13% of the total number of transactions. In other words, even if our algorithm never predicted a payment to be fraudulent, it would still be almost 99.9% accurate.\n",
    "\n",
    "After having comparing both models, it is seen through both the Confusion Matrix, ROC Curve and Area Under Curve (AUC), the **Decision Tree model** is more accurate and outperforms the Logistic Regression model. "
   ]
  },
  {
   "cell_type": "markdown",
   "id": "59efef16",
   "metadata": {},
   "source": [
    "## Improving the Model"
   ]
  },
  {
   "cell_type": "markdown",
   "id": "707f032a",
   "metadata": {},
   "source": [
    "Due to the very low rates of data fraud in the dataset, there is a need to use another metric for comparison. \n",
    "\n",
    "Recall will be used because it is conceivably more important to accurately identify instances of fraud than to raise a \"false alarm.\""
   ]
  },
  {
   "cell_type": "code",
   "execution_count": 31,
   "id": "4b8360b4",
   "metadata": {},
   "outputs": [
    {
     "name": "stdout",
     "output_type": "stream",
     "text": [
      "Logistic Regression Recall: 0.4068002428658166\n",
      "Decision Tree Recall: 0.8506375227686703\n"
     ]
    }
   ],
   "source": [
    "# Importing the recall calculation library\n",
    "from sklearn.metrics import recall_score\n",
    "\n",
    "# Making predictions for our test data using our trained models\n",
    "lr_y_pred = lr.predict(X_test)\n",
    "dt_y_pred = dt.predict(X_test)\n",
    "\n",
    "# Printing our results\n",
    "print('Logistic Regression Recall:', recall_score(y_test, lr_y_pred))\n",
    "print('Decision Tree Recall:', recall_score(y_test, dt_y_pred))"
   ]
  },
  {
   "cell_type": "markdown",
   "id": "3eb833d0",
   "metadata": {},
   "source": [
    "Decision Tree model outperforms Logistic Regression model by a wide margin. A cross-validation of the two models will declare which is the best performer with most certainty."
   ]
  },
  {
   "cell_type": "code",
   "execution_count": 32,
   "id": "e0efee85",
   "metadata": {},
   "outputs": [
    {
     "name": "stdout",
     "output_type": "stream",
     "text": [
      "Logistic Regression Recall Cross-Validation: 0.7220420076133081\n",
      "Decision Tree Recall Cross-Validation: 0.8772302534280921\n"
     ]
    }
   ],
   "source": [
    "# Importing the library to perform cross-validation\n",
    "from sklearn.model_selection import cross_validate\n",
    "\n",
    "# Running the cross-validation on both Decision Tree and Logistic Regression models; specifying recall as the scoring metric\n",
    "dt_scores = cross_validate(dt, X_test, y_test, scoring='recall_macro')\n",
    "lr_scores = cross_validate(lr, X_test, y_test, scoring='recall_macro')\n",
    "\n",
    "# Printing the means of the cross-validations for both models\n",
    "print('Logistic Regression Recall Cross-Validation:', np.mean(lr_scores['test_score']))\n",
    "print('Decision Tree Recall Cross-Validation:', np.mean(dt_scores['test_score']))"
   ]
  },
  {
   "cell_type": "markdown",
   "id": "f7730adc",
   "metadata": {},
   "source": [
    "# Summary"
   ]
  },
  {
   "cell_type": "markdown",
   "id": "2f409c47",
   "metadata": {},
   "source": [
    "### From the EDA:\n",
    "- Online payment frauds have occurred through CASH_OUT and TRANSFER payment types\n",
    "- Moreover, CASH_OUT was the most common type of payment used and TRANSFER had the highest amount of movement of money.\n",
    "- Out of 6362620 online transactions, only 0.13% or 8213 transactions are found to be fraudulent. This is a problem when using the models' accuracies as a metric for comparison."
   ]
  },
  {
   "cell_type": "markdown",
   "id": "dc4857c3",
   "metadata": {},
   "source": [
    "### From ML Algorithm findings:\n",
    "- Applied Logistic Regression and Decision Tree to address the issue.\n",
    "- Decision Tree performed better than Logistic Regression, even after cross validation of both models."
   ]
  },
  {
   "cell_type": "markdown",
   "id": "b3b97449",
   "metadata": {},
   "source": [
    "# Datasets\n",
    "https://www.kaggle.com/datasets/rupakroy/online-payments-fraud-detection-dataset"
   ]
  }
 ],
 "metadata": {
  "kernelspec": {
   "display_name": "Python 3 (ipykernel)",
   "language": "python",
   "name": "python3"
  },
  "language_info": {
   "codemirror_mode": {
    "name": "ipython",
    "version": 3
   },
   "file_extension": ".py",
   "mimetype": "text/x-python",
   "name": "python",
   "nbconvert_exporter": "python",
   "pygments_lexer": "ipython3",
   "version": "3.9.7"
  }
 },
 "nbformat": 4,
 "nbformat_minor": 5
}
